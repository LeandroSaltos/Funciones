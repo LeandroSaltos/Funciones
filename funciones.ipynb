{
 "cells": [
  {
   "cell_type": "markdown",
   "id": "4d89359b-7c92-430e-a658-1f20749f898b",
   "metadata": {},
   "source": [
    "# Funciones (Interes Simple y Compuesto)"
   ]
  },
  {
   "cell_type": "code",
   "execution_count": 30,
   "id": "8102a5bc-3802-45d3-924c-dafcc63e25a4",
   "metadata": {},
   "outputs": [],
   "source": [
    "def interes_simple_vs_intres_compuesto(monto,tasa,tiempo):\n",
    "    interesSimple=monto*(1+tasa*tiempo)\n",
    "    interesCompuesto=round(monto*(1+tasa)**tiempo,4)\n",
    "    \n",
    "    print('RESUMEN DE LA ESTRATEGIA FINANCIERA\\n')\n",
    "    print('---------------------------------------')\n",
    "    \n",
    "    print(f'PARAMETROS DE LA ESTRATEGIA\\n')\n",
    "    print(f'Monto Inicial: ${monto}')\n",
    "    print(f'Tasa de Interes: {tasa*100}%')\n",
    "    print(f'Tiempo de Inversión: {tiempo} meses\\n')\n",
    "    print('---------------------------------------')\n",
    "    \n",
    "    \n",
    "    print(f'Interes Simple: ${interesSimple}')\n",
    "    print(f'Interes Compuesto: ${interesCompuesto}')\n",
    "    \n",
    "    if interesSimple > interesCompuesto:\n",
    "        rendimiento= interesSimple-interesCompuesto\n",
    "        print(f'El interes simple tiene mejor rendimiento, por una diferencia de: {rendimiento}')\n",
    "    elif interesCompuesto>interesSimple:\n",
    "            rendimiento=interesCompuesto-interesSimple\n",
    "            print(f'El interes Compuesto tiene mejor rendimiento, por una diferencia de:{rendimiento} ')\n",
    "    else:\n",
    "            print('Ambas estrategias son iguales')\n",
    "    print('---------------------------------------')\n",
    "    "
   ]
  },
  {
   "cell_type": "code",
   "execution_count": 31,
   "id": "97c24ddc-2dd0-4ae6-bba6-e350774479bd",
   "metadata": {},
   "outputs": [
    {
     "name": "stdout",
     "output_type": "stream",
     "text": [
      "RESUMEN DE LA ESTRATEGIA FINANCIERA\n",
      "\n",
      "---------------------------------------\n",
      "PARAMETROS DE LA ESTRATEGIA\n",
      "\n",
      "Monto Inicial: $5000\n",
      "Tasa de Interes: 9.0%\n",
      "Tiempo de Inversión: 12 meses\n",
      "\n",
      "---------------------------------------\n",
      "Interes Simple: $10400.0\n",
      "Interes Compuesto: $14063.3239\n",
      "El interes Compuesto tiene mejor rendimiento, por una diferencia de:3663.3238999999994 \n",
      "---------------------------------------\n"
     ]
    }
   ],
   "source": [
    "interes_simple_vs_intres_compuesto(5000,0.09,12)"
   ]
  },
  {
   "cell_type": "code",
   "execution_count": null,
   "id": "66ba7b2f-9406-4cd3-8646-9c77578ce1d5",
   "metadata": {},
   "outputs": [],
   "source": []
  }
 ],
 "metadata": {
  "kernelspec": {
   "display_name": "Python 3 (ipykernel)",
   "language": "python",
   "name": "python3"
  },
  "language_info": {
   "codemirror_mode": {
    "name": "ipython",
    "version": 3
   },
   "file_extension": ".py",
   "mimetype": "text/x-python",
   "name": "python",
   "nbconvert_exporter": "python",
   "pygments_lexer": "ipython3",
   "version": "3.9.12"
  }
 },
 "nbformat": 4,
 "nbformat_minor": 5
}
